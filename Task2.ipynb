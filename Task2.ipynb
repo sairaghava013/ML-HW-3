{
  "nbformat": 4,
  "nbformat_minor": 0,
  "metadata": {
    "colab": {
      "provenance": []
    },
    "kernelspec": {
      "name": "python3",
      "display_name": "Python 3"
    },
    "language_info": {
      "name": "python"
    }
  },
  "cells": [
    {
      "cell_type": "code",
      "metadata": {
        "colab": {
          "base_uri": "https://localhost:8080/"
        },
        "id": "oofN4uIA7o0o",
        "outputId": "64813ed9-4bdc-4810-c67c-a31207b628ac"
      },
      "source": [
        "!pip install surprise"
      ],
      "execution_count": null,
      "outputs": [
        {
          "output_type": "stream",
          "name": "stdout",
          "text": [
            "Looking in indexes: https://pypi.org/simple, https://us-python.pkg.dev/colab-wheels/public/simple/\n",
            "Requirement already satisfied: surprise in /usr/local/lib/python3.7/dist-packages (0.1)\n",
            "Requirement already satisfied: scikit-surprise in /usr/local/lib/python3.7/dist-packages (from surprise) (1.1.1)\n",
            "Requirement already satisfied: six>=1.10.0 in /usr/local/lib/python3.7/dist-packages (from scikit-surprise->surprise) (1.15.0)\n",
            "Requirement already satisfied: scipy>=1.0.0 in /usr/local/lib/python3.7/dist-packages (from scikit-surprise->surprise) (1.7.3)\n",
            "Requirement already satisfied: joblib>=0.11 in /usr/local/lib/python3.7/dist-packages (from scikit-surprise->surprise) (1.2.0)\n",
            "Requirement already satisfied: numpy>=1.11.2 in /usr/local/lib/python3.7/dist-packages (from scikit-surprise->surprise) (1.21.6)\n"
          ]
        }
      ]
    },
    {
      "cell_type": "code",
      "metadata": {
        "id": "XGVThP8986R6"
      },
      "source": [
        "import pandas as pd\n",
        "import numpy as np\n",
        "from surprise import KNNBasic,Reader, Dataset, SVD\n",
        "from surprise.model_selection import KFold, cross_validate\n",
        "import matplotlib.pyplot as plt"
      ],
      "execution_count": null,
      "outputs": []
    },
    {
      "cell_type": "markdown",
      "metadata": {
        "id": "pBfsm7PVFD7l"
      },
      "source": [
        "**3.a Loading the data**"
      ]
    },
    {
      "cell_type": "code",
      "metadata": {
        "id": "KOCDmz60-XL3"
      },
      "source": [
        "reader = Reader(line_format='user item rating timestamp', sep=',', skip_lines = 1)\n",
        "data = Dataset.load_from_file('/content/ratings_small.csv', reader=reader)"
      ],
      "execution_count": null,
      "outputs": []
    },
    {
      "cell_type": "markdown",
      "metadata": {
        "id": "lWAleS6EIRQO"
      },
      "source": [
        "**3.c Probabilistic Matrix Factorization (PMF)**"
      ]
    },
    {
      "cell_type": "code",
      "metadata": {
        "colab": {
          "base_uri": "https://localhost:8080/"
        },
        "id": "dBVUd_GqG6t8",
        "outputId": "ed3ede9d-a1c5-4411-cab5-978f5976bcf2"
      },
      "source": [
        "pmf_svd = SVD(biased=False)\n",
        "cv_pmf = cross_validate(pmf_svd, data, measures=['RMSE', 'MAE'], cv=5, verbose=True);"
      ],
      "execution_count": null,
      "outputs": [
        {
          "output_type": "stream",
          "name": "stdout",
          "text": [
            "Evaluating RMSE, MAE of algorithm SVD on 5 split(s).\n",
            "\n",
            "                  Fold 1  Fold 2  Fold 3  Fold 4  Fold 5  Mean    Std     \n",
            "RMSE (testset)    1.0063  1.0051  1.0131  1.0067  1.0160  1.0094  0.0043  \n",
            "MAE (testset)     0.7749  0.7776  0.7799  0.7775  0.7850  0.7790  0.0034  \n",
            "Fit time          11.15   6.74    5.41    5.60    5.12    6.80    2.24    \n",
            "Test time         0.95    0.17    0.45    0.14    0.31    0.40    0.29    \n"
          ]
        }
      ]
    },
    {
      "cell_type": "markdown",
      "metadata": {
        "id": "-sCfw-wSP7kI"
      },
      "source": [
        "**3.c User based CF**"
      ]
    },
    {
      "cell_type": "code",
      "metadata": {
        "colab": {
          "base_uri": "https://localhost:8080/"
        },
        "id": "IKLKWvn6PI9B",
        "outputId": "d57b075e-bc47-4e07-a7b6-48cb66872c04"
      },
      "source": [
        "sim_options = {'user_based': True}\n",
        "user_based_cf = KNNBasic(sim_options=sim_options)\n",
        "cv_ub = cross_validate(user_based_cf, data, measures=['RMSE', 'MAE'], cv=5, verbose=True);"
      ],
      "execution_count": null,
      "outputs": [
        {
          "output_type": "stream",
          "name": "stdout",
          "text": [
            "Computing the msd similarity matrix...\n",
            "Done computing similarity matrix.\n",
            "Computing the msd similarity matrix...\n",
            "Done computing similarity matrix.\n",
            "Computing the msd similarity matrix...\n",
            "Done computing similarity matrix.\n",
            "Computing the msd similarity matrix...\n",
            "Done computing similarity matrix.\n",
            "Computing the msd similarity matrix...\n",
            "Done computing similarity matrix.\n",
            "Evaluating RMSE, MAE of algorithm KNNBasic on 5 split(s).\n",
            "\n",
            "                  Fold 1  Fold 2  Fold 3  Fold 4  Fold 5  Mean    Std     \n",
            "RMSE (testset)    0.9694  0.9758  0.9672  0.9699  0.9728  0.9710  0.0030  \n",
            "MAE (testset)     0.7431  0.7502  0.7444  0.7434  0.7494  0.7461  0.0031  \n",
            "Fit time          0.18    0.35    0.44    0.36    0.21    0.31    0.10    \n",
            "Test time         2.42    3.66    4.21    3.17    1.88    3.07    0.84    \n"
          ]
        }
      ]
    },
    {
      "cell_type": "markdown",
      "metadata": {
        "id": "2WttQVWUQMdi"
      },
      "source": [
        "**3.c Item based CF**"
      ]
    },
    {
      "cell_type": "code",
      "metadata": {
        "colab": {
          "base_uri": "https://localhost:8080/"
        },
        "id": "kst2HdGgP9vJ",
        "outputId": "116e68e8-5083-408c-ea6c-42892f06796d"
      },
      "source": [
        "sim_options = {'user_based': False}\n",
        "item_based_cf = KNNBasic(sim_options=sim_options)\n",
        "cv_ib = cross_validate(item_based_cf, data, measures=['RMSE', 'MAE'], cv=5, verbose=True);"
      ],
      "execution_count": null,
      "outputs": [
        {
          "output_type": "stream",
          "name": "stdout",
          "text": [
            "Computing the msd similarity matrix...\n",
            "Done computing similarity matrix.\n",
            "Computing the msd similarity matrix...\n",
            "Done computing similarity matrix.\n",
            "Computing the msd similarity matrix...\n",
            "Done computing similarity matrix.\n",
            "Computing the msd similarity matrix...\n",
            "Done computing similarity matrix.\n",
            "Computing the msd similarity matrix...\n",
            "Done computing similarity matrix.\n",
            "Evaluating RMSE, MAE of algorithm KNNBasic on 5 split(s).\n",
            "\n",
            "                  Fold 1  Fold 2  Fold 3  Fold 4  Fold 5  Mean    Std     \n",
            "RMSE (testset)    0.9307  0.9403  0.9289  0.9390  0.9360  0.9350  0.0045  \n",
            "MAE (testset)     0.7202  0.7233  0.7175  0.7234  0.7204  0.7210  0.0022  \n",
            "Fit time          5.38    7.79    6.29    5.35    5.29    6.02    0.96    \n",
            "Test time         9.00    11.41   8.75    7.84    7.89    8.98    1.30    \n"
          ]
        }
      ]
    },
    {
      "cell_type": "markdown",
      "metadata": {
        "id": "378VXVN_QfLU"
      },
      "source": [
        "**3.d Mean of PMF, User based CF, Item based CF with respect to MAE, RMSE**"
      ]
    },
    {
      "cell_type": "code",
      "metadata": {
        "colab": {
          "base_uri": "https://localhost:8080/"
        },
        "id": "5eqAwczrQN7H",
        "outputId": "7d8fb213-5c34-41ca-9961-0a5b087c7dac"
      },
      "source": [
        "pmf = ('PMF', cv_pmf['test_mae'].mean(), cv_pmf['test_rmse'].mean())\n",
        "user_cf = ('User based CF', cv_ub['test_mae'].mean(), cv_ub['test_rmse'].mean())\n",
        "item_cf = ('Item based CF', cv_ib['test_mae'].mean(), cv_ib['test_rmse'].mean())\n",
        "\n",
        "results = [pmf, user_cf, item_cf]\n",
        "\n",
        "print(\"%-12s %12s %12s\" % ('Algorithm', 'MAE Mean', 'RMSE Mean'))\n",
        "\n",
        "for res in results:\n",
        "  if res[0] == 'PMF':\n",
        "    print(\"%-8s %14.3f %12.3f\" % (res[0], res[1], res[2]))\n",
        "  else:\n",
        "    print(\"%-8s %9.3f %12.3f\" % (res[0], res[1], res[2]))"
      ],
      "execution_count": null,
      "outputs": [
        {
          "output_type": "stream",
          "name": "stdout",
          "text": [
            "Algorithm        MAE Mean    RMSE Mean\n",
            "PMF               0.779        1.009\n",
            "User based CF     0.746        0.971\n",
            "Item based CF     0.721        0.935\n"
          ]
        }
      ]
    },
    {
      "cell_type": "markdown",
      "metadata": {
        "id": "uOgPzxETh4Og"
      },
      "source": [
        "**3.e Similarities Comparision**"
      ]
    },
    {
      "cell_type": "code",
      "metadata": {
        "colab": {
          "base_uri": "https://localhost:8080/"
        },
        "id": "YoDAa9Fth-4i",
        "outputId": "edf7a4ac-855a-4c20-8b7e-5489538b4688"
      },
      "source": [
        "similarities = ['cosine', 'msd', 'pearson']\n",
        "measures = ['RMSE', 'MAE']\n",
        "run_results = {\n",
        "    'ucf': dict(),\n",
        "    'icf': dict()\n",
        "}\n",
        "\n",
        "for similarity in similarities:\n",
        "  user_based_cf = KNNBasic(sim_options={'name': similarity, 'user_based': True})\n",
        "  item_based_cf = KNNBasic(sim_options={'name': similarity, 'user_based': False})\n",
        "\n",
        "  print(f\"Calculating {similarity} for User Based CF\")\n",
        "  cross_validate_user_based_cf = cross_validate(user_based_cf, data, measures, verbose=True, cv=5)\n",
        "\n",
        "  print(f\"Calculating {similarity} for Item Based CF\")\n",
        "  cross_validate_item_based_cf = cross_validate(item_based_cf, data, measures, verbose=True, cv=5)\n",
        "\n",
        "  run_results['ucf'][similarity] = cross_validate_user_based_cf\n",
        "  run_results['icf'][similarity] = cross_validate_item_based_cf"
      ],
      "execution_count": null,
      "outputs": [
        {
          "output_type": "stream",
          "name": "stdout",
          "text": [
            "Calculating cosine for User Based CF\n",
            "Computing the cosine similarity matrix...\n",
            "Done computing similarity matrix.\n",
            "Computing the cosine similarity matrix...\n",
            "Done computing similarity matrix.\n",
            "Computing the cosine similarity matrix...\n",
            "Done computing similarity matrix.\n",
            "Computing the cosine similarity matrix...\n",
            "Done computing similarity matrix.\n",
            "Computing the cosine similarity matrix...\n",
            "Done computing similarity matrix.\n",
            "Evaluating RMSE, MAE of algorithm KNNBasic on 5 split(s).\n",
            "\n",
            "                  Fold 1  Fold 2  Fold 3  Fold 4  Fold 5  Mean    Std     \n",
            "RMSE (testset)    0.9898  0.9994  0.9943  0.9933  0.9931  0.9940  0.0031  \n",
            "MAE (testset)     0.7642  0.7723  0.7682  0.7694  0.7673  0.7683  0.0026  \n",
            "Fit time          0.43    0.45    0.43    0.44    0.45    0.44    0.01    \n",
            "Test time         2.96    1.70    1.85    2.79    1.92    2.25    0.52    \n",
            "Calculating cosine for Item Based CF\n",
            "Computing the cosine similarity matrix...\n",
            "Done computing similarity matrix.\n",
            "Computing the cosine similarity matrix...\n",
            "Done computing similarity matrix.\n",
            "Computing the cosine similarity matrix...\n",
            "Done computing similarity matrix.\n",
            "Computing the cosine similarity matrix...\n",
            "Done computing similarity matrix.\n",
            "Computing the cosine similarity matrix...\n",
            "Done computing similarity matrix.\n",
            "Evaluating RMSE, MAE of algorithm KNNBasic on 5 split(s).\n",
            "\n",
            "                  Fold 1  Fold 2  Fold 3  Fold 4  Fold 5  Mean    Std     \n",
            "RMSE (testset)    0.9867  1.0008  0.9972  0.9945  0.9970  0.9952  0.0047  \n",
            "MAE (testset)     0.7693  0.7820  0.7725  0.7736  0.7740  0.7743  0.0042  \n",
            "Fit time          15.03   17.39   15.81   15.38   15.79   15.88   0.81    \n",
            "Test time         7.28    7.42    7.42    7.40    8.68    7.64    0.52    \n",
            "Calculating msd for User Based CF\n",
            "Computing the msd similarity matrix...\n",
            "Done computing similarity matrix.\n",
            "Computing the msd similarity matrix...\n",
            "Done computing similarity matrix.\n",
            "Computing the msd similarity matrix...\n",
            "Done computing similarity matrix.\n",
            "Computing the msd similarity matrix...\n",
            "Done computing similarity matrix.\n",
            "Computing the msd similarity matrix...\n",
            "Done computing similarity matrix.\n",
            "Evaluating RMSE, MAE of algorithm KNNBasic on 5 split(s).\n",
            "\n",
            "                  Fold 1  Fold 2  Fold 3  Fold 4  Fold 5  Mean    Std     \n",
            "RMSE (testset)    0.9671  0.9660  0.9730  0.9575  0.9732  0.9674  0.0057  \n",
            "MAE (testset)     0.7442  0.7398  0.7484  0.7384  0.7494  0.7440  0.0044  \n",
            "Fit time          0.16    0.20    0.22    0.21    0.21    0.20    0.02    \n",
            "Test time         1.87    1.74    1.89    1.73    1.87    1.82    0.07    \n",
            "Calculating msd for Item Based CF\n",
            "Computing the msd similarity matrix...\n",
            "Done computing similarity matrix.\n",
            "Computing the msd similarity matrix...\n",
            "Done computing similarity matrix.\n",
            "Computing the msd similarity matrix...\n",
            "Done computing similarity matrix.\n",
            "Computing the msd similarity matrix...\n",
            "Done computing similarity matrix.\n",
            "Computing the msd similarity matrix...\n",
            "Done computing similarity matrix.\n",
            "Evaluating RMSE, MAE of algorithm KNNBasic on 5 split(s).\n",
            "\n",
            "                  Fold 1  Fold 2  Fold 3  Fold 4  Fold 5  Mean    Std     \n",
            "RMSE (testset)    0.9345  0.9391  0.9353  0.9336  0.9307  0.9346  0.0027  \n",
            "MAE (testset)     0.7199  0.7241  0.7212  0.7201  0.7218  0.7214  0.0015  \n",
            "Fit time          4.80    4.89    4.51    4.92    4.63    4.75    0.15    \n",
            "Test time         7.58    8.73    7.77    7.67    8.57    8.06    0.48    \n",
            "Calculating pearson for User Based CF\n",
            "Computing the pearson similarity matrix...\n",
            "Done computing similarity matrix.\n",
            "Computing the pearson similarity matrix...\n",
            "Done computing similarity matrix.\n",
            "Computing the pearson similarity matrix...\n",
            "Done computing similarity matrix.\n",
            "Computing the pearson similarity matrix...\n",
            "Done computing similarity matrix.\n",
            "Computing the pearson similarity matrix...\n",
            "Done computing similarity matrix.\n",
            "Evaluating RMSE, MAE of algorithm KNNBasic on 5 split(s).\n",
            "\n",
            "                  Fold 1  Fold 2  Fold 3  Fold 4  Fold 5  Mean    Std     \n",
            "RMSE (testset)    0.9979  1.0029  1.0028  0.9893  0.9994  0.9985  0.0050  \n",
            "MAE (testset)     0.7716  0.7751  0.7770  0.7687  0.7729  0.7731  0.0028  \n",
            "Fit time          0.67    0.62    0.59    0.57    0.62    0.61    0.03    \n",
            "Test time         1.81    1.73    1.81    1.65    1.78    1.76    0.06    \n",
            "Calculating pearson for Item Based CF\n",
            "Computing the pearson similarity matrix...\n",
            "Done computing similarity matrix.\n",
            "Computing the pearson similarity matrix...\n",
            "Done computing similarity matrix.\n",
            "Computing the pearson similarity matrix...\n",
            "Done computing similarity matrix.\n",
            "Computing the pearson similarity matrix...\n",
            "Done computing similarity matrix.\n",
            "Computing the pearson similarity matrix...\n",
            "Done computing similarity matrix.\n",
            "Evaluating RMSE, MAE of algorithm KNNBasic on 5 split(s).\n",
            "\n",
            "                  Fold 1  Fold 2  Fold 3  Fold 4  Fold 5  Mean    Std     \n",
            "RMSE (testset)    0.9828  0.9966  0.9802  0.9962  0.9910  0.9894  0.0068  \n",
            "MAE (testset)     0.7644  0.7714  0.7601  0.7745  0.7699  0.7681  0.0052  \n",
            "Fit time          19.21   20.61   20.07   21.72   19.27   20.17   0.93    \n",
            "Test time         8.71    7.67    7.68    7.73    8.75    8.10    0.51    \n"
          ]
        }
      ]
    },
    {
      "cell_type": "code",
      "metadata": {
        "id": "ejTLsQTajR9x"
      },
      "source": [
        "plot_data = {\n",
        "    'mae': {\n",
        "      'cosine': [],\n",
        "      'msd': [],\n",
        "      'pearson': []\n",
        "    },\n",
        "    'rmse': {\n",
        "      'cosine': [],\n",
        "      'msd': [],\n",
        "      'pearson': []\n",
        "    }\n",
        "}\n",
        "\n",
        "for k, v in run_results.items():\n",
        "  for key, result in run_results[k].items():\n",
        "    plot_data['mae'][key].append(result['test_mae'].mean())\n",
        "    plot_data['rmse'][key].append(result['test_rmse'].mean())"
      ],
      "execution_count": null,
      "outputs": []
    },
    {
      "cell_type": "code",
      "metadata": {
        "colab": {
          "base_uri": "https://localhost:8080/"
        },
        "id": "wY7qDpwfsAi0",
        "outputId": "0b885c8e-f76b-42e5-dd2a-c2be20530414"
      },
      "source": [
        "plot_data"
      ],
      "execution_count": null,
      "outputs": [
        {
          "output_type": "execute_result",
          "data": {
            "text/plain": [
              "{'mae': {'cosine': [0.7682615723560083, 0.774282697657494],\n",
              "  'msd': [0.7440267228439652, 0.7214178136278717],\n",
              "  'pearson': [0.7730766735683898, 0.768075101764621]},\n",
              " 'rmse': {'cosine': [0.9939827644455874, 0.9952340973166068],\n",
              "  'msd': [0.9673596451234013, 0.9346432734667666],\n",
              "  'pearson': [0.998466071529057, 0.9893732410366383]}}"
            ]
          },
          "metadata": {},
          "execution_count": 27
        }
      ]
    },
    {
      "cell_type": "code",
      "metadata": {
        "colab": {
          "base_uri": "https://localhost:8080/",
          "height": 297
        },
        "id": "6dlz-OuEnlAp",
        "outputId": "c5d4bff1-9512-499c-fe2b-87d0272c7932"
      },
      "source": [
        "labels = ['User based CF', 'Item based CF']\n",
        "\n",
        "x = np.arange(len(labels))  # the label locations\n",
        "width = 0.2\n",
        "\n",
        "# plot data in grouped manner of bar type\n",
        "plt.bar(x-0.2, plot_data['mae']['cosine'], width, color='slateblue')\n",
        "plt.bar(x, plot_data['mae']['msd'], width, color='olivedrab')\n",
        "plt.bar(x+0.2, plot_data['mae']['pearson'], width, color='teal')\n",
        "\n",
        "plt.xticks(x, labels)\n",
        "plt.ylabel(\"MAE\")\n",
        "plt.yticks()\n",
        "plt.legend([\"Cosine\", \"MSD\", \"Pearson\"])\n",
        "plt.tight_layout()\n",
        "\n",
        "plt.show()"
      ],
      "execution_count": null,
      "outputs": [
        {
          "output_type": "display_data",
          "data": {
            "text/plain": [
              "<Figure size 432x288 with 1 Axes>"
            ],
            "image/png": "[encoded data removed]"
          },
          "metadata": {
            "needs_background": "light"
          }
        }
      ]
    },
    {
      "cell_type": "code",
      "metadata": {
        "colab": {
          "base_uri": "https://localhost:8080/",
          "height": 297
        },
        "id": "kAd-hzrlsrUL",
        "outputId": "24a7c8c1-a180-46d3-d168-d7e5989df315"
      },
      "source": [
        "labels = ['User based CF', 'Item based CF']\n",
        "\n",
        "x = np.arange(len(labels))  # the label locations\n",
        "width = 0.2\n",
        "\n",
        "# plot data in grouped manner of bar type\n",
        "plt.bar(x-0.2, plot_data['rmse']['cosine'], width, color='slateblue')\n",
        "plt.bar(x, plot_data['rmse']['msd'], width, color='olivedrab')\n",
        "plt.bar(x+0.2, plot_data['rmse']['pearson'], width, color='teal')\n",
        "\n",
        "plt.xticks(x, labels)\n",
        "plt.ylabel(\"RMSE\")\n",
        "plt.yticks()\n",
        "plt.legend([\"Cosine\", \"MSD\", \"Pearson\"])\n",
        "plt.tight_layout()\n",
        "\n",
        "plt.show()"
      ],
      "execution_count": null,
      "outputs": [
        {
          "output_type": "display_data",
          "data": {
            "text/plain": [
              "<Figure size 432x288 with 1 Axes>"
            ],
            "image/png": "[encoded data removed]"
          },
          "metadata": {
            "needs_background": "light"
          }
        }
      ]
    },
    {
      "cell_type": "code",
      "metadata": {
        "colab": {
          "base_uri": "https://localhost:8080/"
        },
        "id": "Jtrm3ZISv1iK",
        "outputId": "e2123d52-9579-437e-f006-b1dd72475acf"
      },
      "source": [
        "min_k_value = 1\n",
        "mean = 99999\n",
        "ucf_k_results = []\n",
        "\n",
        "for i in range(20):\n",
        "  knn_ucf = KNNBasic(sim_options={'user_based': True}, k=i)\n",
        "  cv_knn_ucf = cross_validate(knn_ucf, data, measures, verbose=True, cv=5)\n",
        "\n",
        "  curr_mean = cv_knn_ucf['test_rmse'].mean()\n",
        "  if curr_mean < mean:\n",
        "    mean = curr_mean\n",
        "    min_k_value = i\n",
        "  ucf_k_results.append(curr_mean)\n",
        "  print(i)\n",
        "\n",
        "print(min_k_value, mean)"
      ],
      "execution_count": null,
      "outputs": [
        {
          "output_type": "stream",
          "name": "stdout",
          "text": [
            "Computing the msd similarity matrix...\n",
            "Done computing similarity matrix.\n",
            "Computing the msd similarity matrix...\n",
            "Done computing similarity matrix.\n",
            "Computing the msd similarity matrix...\n",
            "Done computing similarity matrix.\n",
            "Computing the msd similarity matrix...\n",
            "Done computing similarity matrix.\n",
            "Computing the msd similarity matrix...\n",
            "Done computing similarity matrix.\n",
            "Evaluating RMSE, MAE of algorithm KNNBasic on 5 split(s).\n",
            "\n",
            "                  Fold 1  Fold 2  Fold 3  Fold 4  Fold 5  Mean    Std     \n",
            "RMSE (testset)    1.0600  1.0617  1.0519  1.0599  1.0568  1.0581  0.0035  \n",
            "MAE (testset)     0.8526  0.8518  0.8440  0.8520  0.8485  0.8498  0.0032  \n",
            "Fit time          0.16    0.21    0.20    0.20    0.21    0.20    0.02    \n",
            "Test time         1.01    0.81    0.97    0.81    0.99    0.92    0.09    \n",
            "0\n",
            "Computing the msd similarity matrix...\n",
            "Done computing similarity matrix.\n",
            "Computing the msd similarity matrix...\n",
            "Done computing similarity matrix.\n",
            "Computing the msd similarity matrix...\n",
            "Done computing similarity matrix.\n",
            "Computing the msd similarity matrix...\n",
            "Done computing similarity matrix.\n",
            "Computing the msd similarity matrix...\n",
            "Done computing similarity matrix.\n",
            "Evaluating RMSE, MAE of algorithm KNNBasic on 5 split(s).\n",
            "\n",
            "                  Fold 1  Fold 2  Fold 3  Fold 4  Fold 5  Mean    Std     \n",
            "RMSE (testset)    1.2124  1.2181  1.2045  1.2154  1.2144  1.2130  0.0046  \n",
            "MAE (testset)     0.9078  0.9110  0.9038  0.9076  0.8988  0.9058  0.0042  \n",
            "Fit time          0.17    0.20    0.22    0.22    0.23    0.21    0.02    \n",
            "Test time         1.00    1.01    1.04    1.21    1.02    1.06    0.08    \n",
            "1\n",
            "Computing the msd similarity matrix...\n",
            "Done computing similarity matrix.\n",
            "Computing the msd similarity matrix...\n",
            "Done computing similarity matrix.\n",
            "Computing the msd similarity matrix...\n",
            "Done computing similarity matrix.\n",
            "Computing the msd similarity matrix...\n",
            "Done computing similarity matrix.\n",
            "Computing the msd similarity matrix...\n",
            "Done computing similarity matrix.\n",
            "Evaluating RMSE, MAE of algorithm KNNBasic on 5 split(s).\n",
            "\n",
            "                  Fold 1  Fold 2  Fold 3  Fold 4  Fold 5  Mean    Std     \n",
            "RMSE (testset)    1.0773  1.0752  1.0704  1.0669  1.0730  1.0726  0.0036  \n",
            "MAE (testset)     0.8195  0.8196  0.8149  0.8131  0.8180  0.8170  0.0026  \n",
            "Fit time          0.18    0.20    0.20    0.22    0.20    0.20    0.02    \n",
            "Test time         1.13    1.15    1.27    1.12    1.13    1.16    0.06    \n",
            "2\n",
            "Computing the msd similarity matrix...\n",
            "Done computing similarity matrix.\n",
            "Computing the msd similarity matrix...\n",
            "Done computing similarity matrix.\n",
            "Computing the msd similarity matrix...\n",
            "Done computing similarity matrix.\n",
            "Computing the msd similarity matrix...\n",
            "Done computing similarity matrix.\n",
            "Computing the msd similarity matrix...\n",
            "Done computing similarity matrix.\n",
            "Evaluating RMSE, MAE of algorithm KNNBasic on 5 split(s).\n",
            "\n",
            "                  Fold 1  Fold 2  Fold 3  Fold 4  Fold 5  Mean    Std     \n",
            "RMSE (testset)    1.0246  1.0237  1.0250  1.0184  1.0277  1.0239  0.0030  \n",
            "MAE (testset)     0.7846  0.7827  0.7829  0.7832  0.7868  0.7840  0.0015  \n",
            "Fit time          0.17    0.22    0.23    0.21    0.21    0.21    0.02    \n",
            "Test time         1.21    1.33    1.21    1.36    1.15    1.25    0.08    \n",
            "3\n",
            "Computing the msd similarity matrix...\n",
            "Done computing similarity matrix.\n",
            "Computing the msd similarity matrix...\n",
            "Done computing similarity matrix.\n",
            "Computing the msd similarity matrix...\n",
            "Done computing similarity matrix.\n",
            "Computing the msd similarity matrix...\n",
            "Done computing similarity matrix.\n",
            "Computing the msd similarity matrix...\n",
            "Done computing similarity matrix.\n",
            "Evaluating RMSE, MAE of algorithm KNNBasic on 5 split(s).\n",
            "\n",
            "                  Fold 1  Fold 2  Fold 3  Fold 4  Fold 5  Mean    Std     \n",
            "RMSE (testset)    0.9977  0.9938  1.0053  0.9978  1.0033  0.9996  0.0042  \n",
            "MAE (testset)     0.7648  0.7611  0.7690  0.7649  0.7675  0.7654  0.0027  \n",
            "Fit time          0.18    0.28    0.20    0.22    0.21    0.22    0.03    \n",
            "Test time         1.21    1.93    1.33    1.21    1.37    1.41    0.27    \n",
            "4\n",
            "Computing the msd similarity matrix...\n",
            "Done computing similarity matrix.\n",
            "Computing the msd similarity matrix...\n",
            "Done computing similarity matrix.\n",
            "Computing the msd similarity matrix...\n",
            "Done computing similarity matrix.\n",
            "Computing the msd similarity matrix...\n",
            "Done computing similarity matrix.\n",
            "Computing the msd similarity matrix...\n",
            "Done computing similarity matrix.\n",
            "Evaluating RMSE, MAE of algorithm KNNBasic on 5 split(s).\n",
            "\n",
            "                  Fold 1  Fold 2  Fold 3  Fold 4  Fold 5  Mean    Std     \n",
            "RMSE (testset)    0.9919  0.9792  0.9972  0.9849  0.9831  0.9872  0.0064  \n",
            "MAE (testset)     0.7603  0.7515  0.7616  0.7538  0.7525  0.7560  0.0042  \n",
            "Fit time          0.17    0.20    0.19    0.20    0.20    0.19    0.01    \n",
            "Test time         1.21    1.20    1.23    1.23    1.21    1.22    0.01    \n",
            "5\n",
            "Computing the msd similarity matrix...\n",
            "Done computing similarity matrix.\n",
            "Computing the msd similarity matrix...\n",
            "Done computing similarity matrix.\n",
            "Computing the msd similarity matrix...\n",
            "Done computing similarity matrix.\n",
            "Computing the msd similarity matrix...\n",
            "Done computing similarity matrix.\n",
            "Computing the msd similarity matrix...\n",
            "Done computing similarity matrix.\n",
            "Evaluating RMSE, MAE of algorithm KNNBasic on 5 split(s).\n",
            "\n",
            "                  Fold 1  Fold 2  Fold 3  Fold 4  Fold 5  Mean    Std     \n",
            "RMSE (testset)    0.9809  0.9759  0.9811  0.9782  0.9826  0.9797  0.0024  \n",
            "MAE (testset)     0.7527  0.7501  0.7489  0.7444  0.7485  0.7489  0.0027  \n",
            "Fit time          0.16    0.20    0.20    0.21    0.21    0.20    0.02    \n",
            "Test time         1.40    1.26    1.42    1.29    1.30    1.33    0.06    \n",
            "6\n",
            "Computing the msd similarity matrix...\n",
            "Done computing similarity matrix.\n",
            "Computing the msd similarity matrix...\n",
            "Done computing similarity matrix.\n",
            "Computing the msd similarity matrix...\n",
            "Done computing similarity matrix.\n",
            "Computing the msd similarity matrix...\n",
            "Done computing similarity matrix.\n",
            "Computing the msd similarity matrix...\n",
            "Done computing similarity matrix.\n",
            "Evaluating RMSE, MAE of algorithm KNNBasic on 5 split(s).\n",
            "\n",
            "                  Fold 1  Fold 2  Fold 3  Fold 4  Fold 5  Mean    Std     \n",
            "RMSE (testset)    0.9741  0.9752  0.9718  0.9808  0.9665  0.9737  0.0046  \n",
            "MAE (testset)     0.7462  0.7454  0.7422  0.7480  0.7428  0.7449  0.0022  \n",
            "Fit time          0.16    0.21    0.21    0.19    0.20    0.20    0.02    \n",
            "Test time         1.25    1.42    1.27    1.45    1.28    1.33    0.08    \n",
            "7\n",
            "Computing the msd similarity matrix...\n",
            "Done computing similarity matrix.\n",
            "Computing the msd similarity matrix...\n",
            "Done computing similarity matrix.\n",
            "Computing the msd similarity matrix...\n",
            "Done computing similarity matrix.\n",
            "Computing the msd similarity matrix...\n",
            "Done computing similarity matrix.\n",
            "Computing the msd similarity matrix...\n",
            "Done computing similarity matrix.\n",
            "Evaluating RMSE, MAE of algorithm KNNBasic on 5 split(s).\n",
            "\n",
            "                  Fold 1  Fold 2  Fold 3  Fold 4  Fold 5  Mean    Std     \n",
            "RMSE (testset)    0.9624  0.9648  0.9738  0.9699  0.9697  0.9681  0.0041  \n",
            "MAE (testset)     0.7398  0.7364  0.7463  0.7414  0.7429  0.7414  0.0033  \n",
            "Fit time          0.16    0.22    0.22    0.19    0.19    0.20    0.02    \n",
            "Test time         1.33    1.32    2.17    1.29    1.27    1.48    0.35    \n",
            "8\n",
            "Computing the msd similarity matrix...\n",
            "Done computing similarity matrix.\n",
            "Computing the msd similarity matrix...\n",
            "Done computing similarity matrix.\n",
            "Computing the msd similarity matrix...\n",
            "Done computing similarity matrix.\n",
            "Computing the msd similarity matrix...\n",
            "Done computing similarity matrix.\n",
            "Computing the msd similarity matrix...\n",
            "Done computing similarity matrix.\n",
            "Evaluating RMSE, MAE of algorithm KNNBasic on 5 split(s).\n",
            "\n",
            "                  Fold 1  Fold 2  Fold 3  Fold 4  Fold 5  Mean    Std     \n",
            "RMSE (testset)    0.9708  0.9742  0.9626  0.9692  0.9610  0.9676  0.0050  \n",
            "MAE (testset)     0.7430  0.7448  0.7358  0.7401  0.7358  0.7399  0.0037  \n",
            "Fit time          0.15    0.20    0.21    0.21    0.18    0.19    0.02    \n",
            "Test time         1.31    1.44    1.34    1.46    1.32    1.37    0.06    \n",
            "9\n",
            "Computing the msd similarity matrix...\n",
            "Done computing similarity matrix.\n",
            "Computing the msd similarity matrix...\n",
            "Done computing similarity matrix.\n",
            "Computing the msd similarity matrix...\n",
            "Done computing similarity matrix.\n",
            "Computing the msd similarity matrix...\n",
            "Done computing similarity matrix.\n",
            "Computing the msd similarity matrix...\n",
            "Done computing similarity matrix.\n",
            "Evaluating RMSE, MAE of algorithm KNNBasic on 5 split(s).\n",
            "\n",
            "                  Fold 1  Fold 2  Fold 3  Fold 4  Fold 5  Mean    Std     \n",
            "RMSE (testset)    0.9578  0.9690  0.9685  0.9599  0.9634  0.9637  0.0045  \n",
            "MAE (testset)     0.7317  0.7403  0.7382  0.7367  0.7395  0.7373  0.0030  \n",
            "Fit time          0.16    0.22    0.21    0.21    0.20    0.20    0.02    \n",
            "Test time         1.46    1.33    1.39    1.34    1.36    1.38    0.05    \n",
            "10\n",
            "Computing the msd similarity matrix...\n",
            "Done computing similarity matrix.\n",
            "Computing the msd similarity matrix...\n",
            "Done computing similarity matrix.\n",
            "Computing the msd similarity matrix...\n",
            "Done computing similarity matrix.\n",
            "Computing the msd similarity matrix...\n",
            "Done computing similarity matrix.\n",
            "Computing the msd similarity matrix...\n",
            "Done computing similarity matrix.\n",
            "Evaluating RMSE, MAE of algorithm KNNBasic on 5 split(s).\n",
            "\n",
            "                  Fold 1  Fold 2  Fold 3  Fold 4  Fold 5  Mean    Std     \n",
            "RMSE (testset)    0.9711  0.9589  0.9641  0.9626  0.9604  0.9634  0.0042  \n",
            "MAE (testset)     0.7441  0.7356  0.7347  0.7355  0.7356  0.7371  0.0035  \n",
            "Fit time          0.17    0.20    0.20    0.18    0.21    0.19    0.01    \n",
            "Test time         1.37    1.52    1.41    1.49    1.33    1.42    0.07    \n",
            "11\n",
            "Computing the msd similarity matrix...\n",
            "Done computing similarity matrix.\n",
            "Computing the msd similarity matrix...\n",
            "Done computing similarity matrix.\n",
            "Computing the msd similarity matrix...\n",
            "Done computing similarity matrix.\n",
            "Computing the msd similarity matrix...\n",
            "Done computing similarity matrix.\n",
            "Computing the msd similarity matrix...\n",
            "Done computing similarity matrix.\n",
            "Evaluating RMSE, MAE of algorithm KNNBasic on 5 split(s).\n",
            "\n",
            "                  Fold 1  Fold 2  Fold 3  Fold 4  Fold 5  Mean    Std     \n",
            "RMSE (testset)    0.9647  0.9596  0.9568  0.9668  0.9600  0.9616  0.0036  \n",
            "MAE (testset)     0.7384  0.7356  0.7343  0.7392  0.7352  0.7365  0.0019  \n",
            "Fit time          0.16    0.20    0.20    0.22    0.22    0.20    0.02    \n",
            "Test time         1.46    1.35    2.35    1.40    1.38    1.59    0.38    \n",
            "12\n",
            "Computing the msd similarity matrix...\n",
            "Done computing similarity matrix.\n",
            "Computing the msd similarity matrix...\n",
            "Done computing similarity matrix.\n",
            "Computing the msd similarity matrix...\n",
            "Done computing similarity matrix.\n",
            "Computing the msd similarity matrix...\n",
            "Done computing similarity matrix.\n",
            "Computing the msd similarity matrix...\n",
            "Done computing similarity matrix.\n",
            "Evaluating RMSE, MAE of algorithm KNNBasic on 5 split(s).\n",
            "\n",
            "                  Fold 1  Fold 2  Fold 3  Fold 4  Fold 5  Mean    Std     \n",
            "RMSE (testset)    0.9632  0.9627  0.9679  0.9647  0.9595  0.9636  0.0027  \n",
            "MAE (testset)     0.7334  0.7368  0.7413  0.7414  0.7367  0.7379  0.0030  \n",
            "Fit time          0.17    0.20    0.21    0.22    0.20    0.20    0.02    \n",
            "Test time         1.36    1.53    1.35    1.36    1.38    1.40    0.07    \n",
            "13\n",
            "Computing the msd similarity matrix...\n",
            "Done computing similarity matrix.\n",
            "Computing the msd similarity matrix...\n",
            "Done computing similarity matrix.\n",
            "Computing the msd similarity matrix...\n",
            "Done computing similarity matrix.\n",
            "Computing the msd similarity matrix...\n",
            "Done computing similarity matrix.\n",
            "Computing the msd similarity matrix...\n",
            "Done computing similarity matrix.\n",
            "Evaluating RMSE, MAE of algorithm KNNBasic on 5 split(s).\n",
            "\n",
            "                  Fold 1  Fold 2  Fold 3  Fold 4  Fold 5  Mean    Std     \n",
            "RMSE (testset)    0.9638  0.9524  0.9611  0.9709  0.9600  0.9617  0.0060  \n",
            "MAE (testset)     0.7353  0.7297  0.7361  0.7450  0.7362  0.7365  0.0049  \n",
            "Fit time          0.15    0.20    0.21    0.19    0.19    0.19    0.02    \n",
            "Test time         1.55    1.38    1.56    1.38    1.38    1.45    0.08    \n",
            "14\n",
            "Computing the msd similarity matrix...\n",
            "Done computing similarity matrix.\n",
            "Computing the msd similarity matrix...\n",
            "Done computing similarity matrix.\n",
            "Computing the msd similarity matrix...\n",
            "Done computing similarity matrix.\n",
            "Computing the msd similarity matrix...\n",
            "Done computing similarity matrix.\n",
            "Computing the msd similarity matrix...\n",
            "Done computing similarity matrix.\n",
            "Evaluating RMSE, MAE of algorithm KNNBasic on 5 split(s).\n",
            "\n",
            "                  Fold 1  Fold 2  Fold 3  Fold 4  Fold 5  Mean    Std     \n",
            "RMSE (testset)    0.9645  0.9569  0.9606  0.9661  0.9679  0.9632  0.0040  \n",
            "MAE (testset)     0.7398  0.7339  0.7361  0.7372  0.7420  0.7378  0.0028  \n",
            "Fit time          0.16    0.19    0.19    0.21    0.20    0.19    0.02    \n",
            "Test time         1.36    1.41    1.42    1.59    1.45    1.45    0.08    \n",
            "15\n",
            "Computing the msd similarity matrix...\n",
            "Done computing similarity matrix.\n",
            "Computing the msd similarity matrix...\n",
            "Done computing similarity matrix.\n",
            "Computing the msd similarity matrix...\n",
            "Done computing similarity matrix.\n",
            "Computing the msd similarity matrix...\n",
            "Done computing similarity matrix.\n",
            "Computing the msd similarity matrix...\n",
            "Done computing similarity matrix.\n",
            "Evaluating RMSE, MAE of algorithm KNNBasic on 5 split(s).\n",
            "\n",
            "                  Fold 1  Fold 2  Fold 3  Fold 4  Fold 5  Mean    Std     \n",
            "RMSE (testset)    0.9641  0.9548  0.9587  0.9701  0.9557  0.9607  0.0057  \n",
            "MAE (testset)     0.7387  0.7313  0.7347  0.7425  0.7310  0.7356  0.0044  \n",
            "Fit time          0.16    0.21    0.20    0.27    0.21    0.21    0.04    \n",
            "Test time         1.56    1.41    2.21    1.57    1.62    1.67    0.28    \n",
            "16\n",
            "Computing the msd similarity matrix...\n",
            "Done computing similarity matrix.\n",
            "Computing the msd similarity matrix...\n",
            "Done computing similarity matrix.\n",
            "Computing the msd similarity matrix...\n",
            "Done computing similarity matrix.\n",
            "Computing the msd similarity matrix...\n",
            "Done computing similarity matrix.\n",
            "Computing the msd similarity matrix...\n",
            "Done computing similarity matrix.\n",
            "Evaluating RMSE, MAE of algorithm KNNBasic on 5 split(s).\n",
            "\n",
            "                  Fold 1  Fold 2  Fold 3  Fold 4  Fold 5  Mean    Std     \n",
            "RMSE (testset)    0.9620  0.9637  0.9655  0.9566  0.9628  0.9621  0.0030  \n",
            "MAE (testset)     0.7390  0.7388  0.7392  0.7344  0.7353  0.7373  0.0021  \n",
            "Fit time          0.20    0.20    0.21    0.20    0.21    0.20    0.00    \n",
            "Test time         1.47    1.60    1.49    1.62    1.46    1.53    0.07    \n",
            "17\n",
            "Computing the msd similarity matrix...\n",
            "Done computing similarity matrix.\n",
            "Computing the msd similarity matrix...\n",
            "Done computing similarity matrix.\n",
            "Computing the msd similarity matrix...\n",
            "Done computing similarity matrix.\n",
            "Computing the msd similarity matrix...\n",
            "Done computing similarity matrix.\n",
            "Computing the msd similarity matrix...\n",
            "Done computing similarity matrix.\n",
            "Evaluating RMSE, MAE of algorithm KNNBasic on 5 split(s).\n",
            "\n",
            "                  Fold 1  Fold 2  Fold 3  Fold 4  Fold 5  Mean    Std     \n",
            "RMSE (testset)    0.9555  0.9649  0.9557  0.9686  0.9717  0.9633  0.0066  \n",
            "MAE (testset)     0.7330  0.7348  0.7334  0.7433  0.7442  0.7378  0.0050  \n",
            "Fit time          0.16    0.19    0.19    0.21    0.20    0.19    0.02    \n",
            "Test time         1.61    1.48    1.65    1.49    1.66    1.58    0.08    \n",
            "18\n",
            "Computing the msd similarity matrix...\n",
            "Done computing similarity matrix.\n",
            "Computing the msd similarity matrix...\n",
            "Done computing similarity matrix.\n",
            "Computing the msd similarity matrix...\n",
            "Done computing similarity matrix.\n",
            "Computing the msd similarity matrix...\n",
            "Done computing similarity matrix.\n",
            "Computing the msd similarity matrix...\n",
            "Done computing similarity matrix.\n",
            "Evaluating RMSE, MAE of algorithm KNNBasic on 5 split(s).\n",
            "\n",
            "                  Fold 1  Fold 2  Fold 3  Fold 4  Fold 5  Mean    Std     \n",
            "RMSE (testset)    0.9624  0.9662  0.9587  0.9662  0.9597  0.9626  0.0032  \n",
            "MAE (testset)     0.7371  0.7407  0.7340  0.7416  0.7358  0.7378  0.0029  \n",
            "Fit time          0.15    0.18    0.19    0.21    0.18    0.18    0.02    \n",
            "Test time         1.50    1.61    1.49    1.62    1.52    1.55    0.06    \n",
            "19\n",
            "16 0.9606678937197151\n"
          ]
        }
      ]
    },
    {
      "cell_type": "code",
      "metadata": {
        "colab": {
          "base_uri": "https://localhost:8080/"
        },
        "id": "cvja9uxUzYBz",
        "outputId": "04b4a949-7370-4f71-a79a-d844b8b4d5ce"
      },
      "source": [
        "min_k_value = 1\n",
        "mean = 99999\n",
        "icf_k_results = []\n",
        "\n",
        "for i in range(20):\n",
        "  knn_ucf = KNNBasic(sim_options={'user_based': False}, k=i)\n",
        "  cv_knn_ucf = cross_validate(knn_ucf, data, measures, verbose=True, cv=5)\n",
        "\n",
        "  curr_mean = cv_knn_ucf['test_rmse'].mean()\n",
        "  if curr_mean < mean:\n",
        "    mean = curr_mean\n",
        "    min_k_value = i\n",
        "  icf_k_results.append(curr_mean)\n",
        "\n",
        "print(min_k_value, mean)"
      ],
      "execution_count": null,
      "outputs": [
        {
          "output_type": "stream",
          "name": "stdout",
          "text": [
            "Computing the msd similarity matrix...\n",
            "Done computing similarity matrix.\n",
            "Computing the msd similarity matrix...\n",
            "Done computing similarity matrix.\n",
            "Computing the msd similarity matrix...\n",
            "Done computing similarity matrix.\n",
            "Computing the msd similarity matrix...\n",
            "Done computing similarity matrix.\n",
            "Computing the msd similarity matrix...\n",
            "Done computing similarity matrix.\n",
            "Evaluating RMSE, MAE of algorithm KNNBasic on 5 split(s).\n",
            "\n",
            "                  Fold 1  Fold 2  Fold 3  Fold 4  Fold 5  Mean    Std     \n",
            "RMSE (testset)    1.0642  1.0554  1.0594  1.0526  1.0588  1.0581  0.0039  \n",
            "MAE (testset)     0.8546  0.8466  0.8532  0.8452  0.8494  0.8498  0.0036  \n",
            "Fit time          5.43    6.96    5.79    5.18    4.72    5.62    0.76    \n",
            "Test time         5.96    4.41    5.85    5.41    4.86    5.30    0.59    \n",
            "Computing the msd similarity matrix...\n",
            "Done computing similarity matrix.\n",
            "Computing the msd similarity matrix...\n",
            "Done computing similarity matrix.\n",
            "Computing the msd similarity matrix...\n",
            "Done computing similarity matrix.\n",
            "Computing the msd similarity matrix...\n",
            "Done computing similarity matrix.\n",
            "Computing the msd similarity matrix...\n",
            "Done computing similarity matrix.\n",
            "Evaluating RMSE, MAE of algorithm KNNBasic on 5 split(s).\n",
            "\n",
            "                  Fold 1  Fold 2  Fold 3  Fold 4  Fold 5  Mean    Std     \n",
            "RMSE (testset)    1.3011  1.2939  1.3072  1.3091  1.2960  1.3015  0.0060  \n",
            "MAE (testset)     0.9628  0.9544  0.9675  0.9662  0.9590  0.9620  0.0048  \n",
            "Fit time          4.38    4.71    4.76    4.90    4.69    4.69    0.17    \n",
            "Test time         5.17    5.49    6.61    5.58    6.01    5.77    0.50    \n",
            "Computing the msd similarity matrix...\n",
            "Done computing similarity matrix.\n",
            "Computing the msd similarity matrix...\n",
            "Done computing similarity matrix.\n",
            "Computing the msd similarity matrix...\n",
            "Done computing similarity matrix.\n",
            "Computing the msd similarity matrix...\n",
            "Done computing similarity matrix.\n",
            "Computing the msd similarity matrix...\n",
            "Done computing similarity matrix.\n",
            "Evaluating RMSE, MAE of algorithm KNNBasic on 5 split(s).\n",
            "\n",
            "                  Fold 1  Fold 2  Fold 3  Fold 4  Fold 5  Mean    Std     \n",
            "RMSE (testset)    1.1429  1.1393  1.1461  1.1489  1.1417  1.1438  0.0033  \n",
            "MAE (testset)     0.8724  0.8704  0.8747  0.8752  0.8696  0.8725  0.0022  \n",
            "Fit time          4.39    5.66    5.04    4.74    4.74    4.91    0.42    \n",
            "Test time         6.06    6.09    6.16    6.28    7.27    6.37    0.45    \n",
            "Computing the msd similarity matrix...\n",
            "Done computing similarity matrix.\n",
            "Computing the msd similarity matrix...\n",
            "Done computing similarity matrix.\n",
            "Computing the msd similarity matrix...\n",
            "Done computing similarity matrix.\n",
            "Computing the msd similarity matrix...\n",
            "Done computing similarity matrix.\n",
            "Computing the msd similarity matrix...\n",
            "Done computing similarity matrix.\n",
            "Evaluating RMSE, MAE of algorithm KNNBasic on 5 split(s).\n",
            "\n",
            "                  Fold 1  Fold 2  Fold 3  Fold 4  Fold 5  Mean    Std     \n",
            "RMSE (testset)    1.0884  1.0768  1.0822  1.0864  1.0745  1.0817  0.0054  \n",
            "MAE (testset)     0.8339  0.8331  0.8347  0.8335  0.8255  0.8321  0.0033  \n",
            "Fit time          4.50    4.76    4.90    4.87    4.82    4.77    0.14    \n",
            "Test time         6.07    5.93    6.77    6.26    6.36    6.28    0.29    \n",
            "Computing the msd similarity matrix...\n",
            "Done computing similarity matrix.\n",
            "Computing the msd similarity matrix...\n",
            "Done computing similarity matrix.\n",
            "Computing the msd similarity matrix...\n",
            "Done computing similarity matrix.\n",
            "Computing the msd similarity matrix...\n",
            "Done computing similarity matrix.\n",
            "Computing the msd similarity matrix...\n",
            "Done computing similarity matrix.\n",
            "Evaluating RMSE, MAE of algorithm KNNBasic on 5 split(s).\n",
            "\n",
            "                  Fold 1  Fold 2  Fold 3  Fold 4  Fold 5  Mean    Std     \n",
            "RMSE (testset)    1.0471  1.0357  1.0408  1.0503  1.0480  1.0444  0.0054  \n",
            "MAE (testset)     0.8062  0.8009  0.8047  0.8113  0.8109  0.8068  0.0039  \n",
            "Fit time          4.53    5.76    4.85    4.75    4.91    4.96    0.42    \n",
            "Test time         6.36    6.33    6.23    6.43    7.16    6.50    0.33    \n",
            "Computing the msd similarity matrix...\n",
            "Done computing similarity matrix.\n",
            "Computing the msd similarity matrix...\n",
            "Done computing similarity matrix.\n",
            "Computing the msd similarity matrix...\n",
            "Done computing similarity matrix.\n",
            "Computing the msd similarity matrix...\n",
            "Done computing similarity matrix.\n",
            "Computing the msd similarity matrix...\n",
            "Done computing similarity matrix.\n",
            "Evaluating RMSE, MAE of algorithm KNNBasic on 5 split(s).\n",
            "\n",
            "                  Fold 1  Fold 2  Fold 3  Fold 4  Fold 5  Mean    Std     \n",
            "RMSE (testset)    1.0296  1.0274  1.0118  1.0195  1.0215  1.0220  0.0063  \n",
            "MAE (testset)     0.7936  0.7935  0.7826  0.7876  0.7923  0.7899  0.0043  \n",
            "Fit time          4.46    4.77    4.31    5.04    5.00    4.72    0.29    \n",
            "Test time         6.20    6.19    6.64    6.02    6.41    6.29    0.21    \n",
            "Computing the msd similarity matrix...\n",
            "Done computing similarity matrix.\n",
            "Computing the msd similarity matrix...\n",
            "Done computing similarity matrix.\n",
            "Computing the msd similarity matrix...\n",
            "Done computing similarity matrix.\n",
            "Computing the msd similarity matrix...\n",
            "Done computing similarity matrix.\n",
            "Computing the msd similarity matrix...\n",
            "Done computing similarity matrix.\n",
            "Evaluating RMSE, MAE of algorithm KNNBasic on 5 split(s).\n",
            "\n",
            "                  Fold 1  Fold 2  Fold 3  Fold 4  Fold 5  Mean    Std     \n",
            "RMSE (testset)    0.9984  1.0136  1.0132  1.0089  1.0033  1.0075  0.0059  \n",
            "MAE (testset)     0.7708  0.7842  0.7854  0.7812  0.7767  0.7797  0.0053  \n",
            "Fit time          4.80    5.46    4.29    4.78    4.84    4.83    0.37    \n",
            "Test time         6.13    6.76    6.51    6.27    6.28    6.39    0.22    \n",
            "Computing the msd similarity matrix...\n",
            "Done computing similarity matrix.\n",
            "Computing the msd similarity matrix...\n",
            "Done computing similarity matrix.\n",
            "Computing the msd similarity matrix...\n",
            "Done computing similarity matrix.\n",
            "Computing the msd similarity matrix...\n",
            "Done computing similarity matrix.\n",
            "Computing the msd similarity matrix...\n",
            "Done computing similarity matrix.\n",
            "Evaluating RMSE, MAE of algorithm KNNBasic on 5 split(s).\n",
            "\n",
            "                  Fold 1  Fold 2  Fold 3  Fold 4  Fold 5  Mean    Std     \n",
            "RMSE (testset)    0.9957  1.0000  1.0010  0.9926  0.9988  0.9976  0.0031  \n",
            "MAE (testset)     0.7717  0.7745  0.7756  0.7663  0.7725  0.7721  0.0032  \n",
            "Fit time          5.89    4.47    4.76    4.47    4.75    4.87    0.52    \n",
            "Test time         6.23    6.28    6.50    7.59    6.33    6.58    0.51    \n",
            "Computing the msd similarity matrix...\n",
            "Done computing similarity matrix.\n",
            "Computing the msd similarity matrix...\n",
            "Done computing similarity matrix.\n",
            "Computing the msd similarity matrix...\n",
            "Done computing similarity matrix.\n",
            "Computing the msd similarity matrix...\n",
            "Done computing similarity matrix.\n",
            "Computing the msd similarity matrix...\n",
            "Done computing similarity matrix.\n",
            "Evaluating RMSE, MAE of algorithm KNNBasic on 5 split(s).\n",
            "\n",
            "                  Fold 1  Fold 2  Fold 3  Fold 4  Fold 5  Mean    Std     \n",
            "RMSE (testset)    0.9811  0.9901  0.9870  0.9991  0.9856  0.9886  0.0060  \n",
            "MAE (testset)     0.7571  0.7681  0.7638  0.7715  0.7622  0.7645  0.0050  \n",
            "Fit time          4.58    4.93    4.72    4.74    4.67    4.73    0.12    \n",
            "Test time         6.14    7.12    6.23    6.61    6.34    6.49    0.35    \n",
            "Computing the msd similarity matrix...\n",
            "Done computing similarity matrix.\n",
            "Computing the msd similarity matrix...\n",
            "Done computing similarity matrix.\n",
            "Computing the msd similarity matrix...\n",
            "Done computing similarity matrix.\n",
            "Computing the msd similarity matrix...\n",
            "Done computing similarity matrix.\n",
            "Computing the msd similarity matrix...\n",
            "Done computing similarity matrix.\n",
            "Evaluating RMSE, MAE of algorithm KNNBasic on 5 split(s).\n",
            "\n",
            "                  Fold 1  Fold 2  Fold 3  Fold 4  Fold 5  Mean    Std     \n",
            "RMSE (testset)    0.9718  0.9762  0.9843  0.9840  0.9853  0.9803  0.0054  \n",
            "MAE (testset)     0.7527  0.7591  0.7624  0.7627  0.7588  0.7591  0.0036  \n",
            "Fit time          5.53    4.89    4.61    4.75    4.68    4.90    0.33    \n",
            "Test time         6.36    6.24    6.57    7.35    6.78    6.66    0.39    \n",
            "Computing the msd similarity matrix...\n",
            "Done computing similarity matrix.\n",
            "Computing the msd similarity matrix...\n",
            "Done computing similarity matrix.\n",
            "Computing the msd similarity matrix...\n",
            "Done computing similarity matrix.\n",
            "Computing the msd similarity matrix...\n",
            "Done computing similarity matrix.\n",
            "Computing the msd similarity matrix...\n",
            "Done computing similarity matrix.\n",
            "Evaluating RMSE, MAE of algorithm KNNBasic on 5 split(s).\n",
            "\n",
            "                  Fold 1  Fold 2  Fold 3  Fold 4  Fold 5  Mean    Std     \n",
            "RMSE (testset)    0.9797  0.9779  0.9743  0.9735  0.9661  0.9743  0.0047  \n",
            "MAE (testset)     0.7572  0.7576  0.7545  0.7535  0.7493  0.7544  0.0030  \n",
            "Fit time          4.69    4.77    4.93    4.79    8.09    5.45    1.32    \n",
            "Test time         6.39    7.66    6.36    6.85    7.36    6.92    0.52    \n",
            "Computing the msd similarity matrix...\n",
            "Done computing similarity matrix.\n",
            "Computing the msd similarity matrix...\n",
            "Done computing similarity matrix.\n",
            "Computing the msd similarity matrix...\n",
            "Done computing similarity matrix.\n",
            "Computing the msd similarity matrix...\n",
            "Done computing similarity matrix.\n",
            "Computing the msd similarity matrix...\n",
            "Done computing similarity matrix.\n",
            "Evaluating RMSE, MAE of algorithm KNNBasic on 5 split(s).\n",
            "\n",
            "                  Fold 1  Fold 2  Fold 3  Fold 4  Fold 5  Mean    Std     \n",
            "RMSE (testset)    0.9731  0.9671  0.9718  0.9720  0.9661  0.9700  0.0028  \n",
            "MAE (testset)     0.7524  0.7484  0.7487  0.7539  0.7480  0.7503  0.0024  \n",
            "Fit time          4.65    4.80    4.54    4.94    4.95    4.77    0.16    \n",
            "Test time         6.53    6.46    7.09    6.52    6.69    6.66    0.23    \n",
            "Computing the msd similarity matrix...\n",
            "Done computing similarity matrix.\n",
            "Computing the msd similarity matrix...\n",
            "Done computing similarity matrix.\n",
            "Computing the msd similarity matrix...\n",
            "Done computing similarity matrix.\n",
            "Computing the msd similarity matrix...\n",
            "Done computing similarity matrix.\n",
            "Computing the msd similarity matrix...\n",
            "Done computing similarity matrix.\n",
            "Evaluating RMSE, MAE of algorithm KNNBasic on 5 split(s).\n",
            "\n",
            "                  Fold 1  Fold 2  Fold 3  Fold 4  Fold 5  Mean    Std     \n",
            "RMSE (testset)    0.9604  0.9627  0.9693  0.9741  0.9598  0.9653  0.0056  \n",
            "MAE (testset)     0.7442  0.7461  0.7478  0.7545  0.7413  0.7468  0.0044  \n",
            "Fit time          4.73    5.89    4.90    4.79    5.21    5.10    0.43    \n",
            "Test time         6.51    6.54    6.77    6.63    7.54    6.80    0.38    \n",
            "Computing the msd similarity matrix...\n",
            "Done computing similarity matrix.\n",
            "Computing the msd similarity matrix...\n",
            "Done computing similarity matrix.\n",
            "Computing the msd similarity matrix...\n",
            "Done computing similarity matrix.\n",
            "Computing the msd similarity matrix...\n",
            "Done computing similarity matrix.\n",
            "Computing the msd similarity matrix...\n",
            "Done computing similarity matrix.\n",
            "Evaluating RMSE, MAE of algorithm KNNBasic on 5 split(s).\n",
            "\n",
            "                  Fold 1  Fold 2  Fold 3  Fold 4  Fold 5  Mean    Std     \n",
            "RMSE (testset)    0.9537  0.9627  0.9629  0.9742  0.9559  0.9619  0.0071  \n",
            "MAE (testset)     0.7397  0.7443  0.7429  0.7534  0.7402  0.7441  0.0050  \n",
            "Fit time          4.63    4.83    4.98    4.82    4.81    4.81    0.11    \n",
            "Test time         6.61    6.95    8.05    6.45    6.78    6.97    0.56    \n",
            "Computing the msd similarity matrix...\n",
            "Done computing similarity matrix.\n",
            "Computing the msd similarity matrix...\n",
            "Done computing similarity matrix.\n",
            "Computing the msd similarity matrix...\n",
            "Done computing similarity matrix.\n",
            "Computing the msd similarity matrix...\n",
            "Done computing similarity matrix.\n",
            "Computing the msd similarity matrix...\n",
            "Done computing similarity matrix.\n",
            "Evaluating RMSE, MAE of algorithm KNNBasic on 5 split(s).\n",
            "\n",
            "                  Fold 1  Fold 2  Fold 3  Fold 4  Fold 5  Mean    Std     \n",
            "RMSE (testset)    0.9584  0.9527  0.9518  0.9659  0.9651  0.9588  0.0059  \n",
            "MAE (testset)     0.7426  0.7332  0.7373  0.7449  0.7451  0.7406  0.0047  \n",
            "Fit time          4.70    4.75    4.79    4.79    4.90    4.78    0.06    \n",
            "Test time         7.56    6.97    6.98    8.16    6.91    7.32    0.48    \n",
            "Computing the msd similarity matrix...\n",
            "Done computing similarity matrix.\n",
            "Computing the msd similarity matrix...\n",
            "Done computing similarity matrix.\n",
            "Computing the msd similarity matrix...\n",
            "Done computing similarity matrix.\n",
            "Computing the msd similarity matrix...\n",
            "Done computing similarity matrix.\n",
            "Computing the msd similarity matrix...\n",
            "Done computing similarity matrix.\n",
            "Evaluating RMSE, MAE of algorithm KNNBasic on 5 split(s).\n",
            "\n",
            "                  Fold 1  Fold 2  Fold 3  Fold 4  Fold 5  Mean    Std     \n",
            "RMSE (testset)    0.9589  0.9552  0.9545  0.9547  0.9553  0.9557  0.0016  \n",
            "MAE (testset)     0.7388  0.7366  0.7387  0.7401  0.7375  0.7383  0.0012  \n",
            "Fit time          4.68    4.88    5.24    4.96    4.74    4.90    0.20    \n",
            "Test time         6.64    7.14    6.58    7.19    7.23    6.95    0.29    \n",
            "Computing the msd similarity matrix...\n",
            "Done computing similarity matrix.\n",
            "Computing the msd similarity matrix...\n",
            "Done computing similarity matrix.\n",
            "Computing the msd similarity matrix...\n",
            "Done computing similarity matrix.\n",
            "Computing the msd similarity matrix...\n",
            "Done computing similarity matrix.\n",
            "Computing the msd similarity matrix...\n",
            "Done computing similarity matrix.\n",
            "Evaluating RMSE, MAE of algorithm KNNBasic on 5 split(s).\n",
            "\n",
            "                  Fold 1  Fold 2  Fold 3  Fold 4  Fold 5  Mean    Std     \n",
            "RMSE (testset)    0.9489  0.9414  0.9604  0.9544  0.9622  0.9535  0.0076  \n",
            "MAE (testset)     0.7339  0.7284  0.7430  0.7373  0.7419  0.7369  0.0053  \n",
            "Fit time          6.12    4.83    4.50    4.62    4.94    5.00    0.58    \n",
            "Test time         6.68    6.75    6.62    7.66    6.69    6.88    0.39    \n",
            "Computing the msd similarity matrix...\n",
            "Done computing similarity matrix.\n",
            "Computing the msd similarity matrix...\n",
            "Done computing similarity matrix.\n",
            "Computing the msd similarity matrix...\n",
            "Done computing similarity matrix.\n",
            "Computing the msd similarity matrix...\n",
            "Done computing similarity matrix.\n",
            "Computing the msd similarity matrix...\n",
            "Done computing similarity matrix.\n",
            "Evaluating RMSE, MAE of algorithm KNNBasic on 5 split(s).\n",
            "\n",
            "                  Fold 1  Fold 2  Fold 3  Fold 4  Fold 5  Mean    Std     \n",
            "RMSE (testset)    0.9551  0.9478  0.9488  0.9576  0.9503  0.9519  0.0038  \n",
            "MAE (testset)     0.7374  0.7289  0.7336  0.7433  0.7342  0.7355  0.0048  \n",
            "Fit time          4.69    4.63    5.14    4.79    4.50    4.75    0.22    \n",
            "Test time         6.60    6.60    6.77    6.39    6.89    6.65    0.17    \n",
            "Computing the msd similarity matrix...\n",
            "Done computing similarity matrix.\n",
            "Computing the msd similarity matrix...\n",
            "Done computing similarity matrix.\n",
            "Computing the msd similarity matrix...\n",
            "Done computing similarity matrix.\n",
            "Computing the msd similarity matrix...\n",
            "Done computing similarity matrix.\n",
            "Computing the msd similarity matrix...\n",
            "Done computing similarity matrix.\n",
            "Evaluating RMSE, MAE of algorithm KNNBasic on 5 split(s).\n",
            "\n",
            "                  Fold 1  Fold 2  Fold 3  Fold 4  Fold 5  Mean    Std     \n",
            "RMSE (testset)    0.9540  0.9564  0.9514  0.9499  0.9491  0.9522  0.0027  \n",
            "MAE (testset)     0.7372  0.7367  0.7366  0.7349  0.7335  0.7358  0.0014  \n",
            "Fit time          5.73    4.74    4.50    4.77    4.47    4.84    0.46    \n",
            "Test time         6.49    6.49    6.56    7.90    7.49    6.99    0.59    \n",
            "Computing the msd similarity matrix...\n",
            "Done computing similarity matrix.\n",
            "Computing the msd similarity matrix...\n",
            "Done computing similarity matrix.\n",
            "Computing the msd similarity matrix...\n",
            "Done computing similarity matrix.\n",
            "Computing the msd similarity matrix...\n",
            "Done computing similarity matrix.\n",
            "Computing the msd similarity matrix...\n",
            "Done computing similarity matrix.\n",
            "Evaluating RMSE, MAE of algorithm KNNBasic on 5 split(s).\n",
            "\n",
            "                  Fold 1  Fold 2  Fold 3  Fold 4  Fold 5  Mean    Std     \n",
            "RMSE (testset)    0.9504  0.9551  0.9499  0.9481  0.9429  0.9493  0.0039  \n",
            "MAE (testset)     0.7332  0.7367  0.7325  0.7322  0.7287  0.7327  0.0026  \n",
            "Fit time          4.67    4.71    4.42    4.78    4.64    4.65    0.12    \n",
            "Test time         6.75    7.80    6.81    6.73    7.90    7.20    0.53    \n",
            "19 0.9492857273374099\n"
          ]
        }
      ]
    },
    {
      "cell_type": "code",
      "metadata": {
        "colab": {
          "base_uri": "https://localhost:8080/",
          "height": 295
        },
        "id": "L5rRNWgu1Tp6",
        "outputId": "94583ab7-76e4-410a-d672-5a7ae865d639"
      },
      "source": [
        "plt.plot(icf_k_results)\n",
        "plt.xlabel(\"K\")\n",
        "plt.ylabel(\"RMSE\")\n",
        "plt.title(\"RMSE for various values of K for Item based CF\")\n",
        "plt.show()"
      ],
      "execution_count": null,
      "outputs": [
        {
          "output_type": "display_data",
          "data": {
            "text/plain": [
              "<Figure size 432x288 with 1 Axes>"
            ],
            "image/png": "[encoded data removed]"
          },
          "metadata": {
            "needs_background": "light"
          }
        }
      ]
    },
    {
      "cell_type": "code",
      "metadata": {
        "colab": {
          "base_uri": "https://localhost:8080/",
          "height": 295
        },
        "id": "8rauw1FH5kXI",
        "outputId": "90f55511-c029-4e3b-de47-ac99da8a9916"
      },
      "source": [
        "plt.plot(ucf_k_results)\n",
        "plt.xlabel(\"K\")\n",
        "plt.ylabel(\"RMSE\")\n",
        "plt.title(\"RMSE for various values of K for User based CF\")\n",
        "plt.show()"
      ],
      "execution_count": null,
      "outputs": [
        {
          "output_type": "display_data",
          "data": {
            "text/plain": [
              "<Figure size 432x288 with 1 Axes>"
            ],
            "image/png": "[encoded data removed]"
          },
          "metadata": {
            "needs_background": "light"
          }
        }
      ]
    },
    {
      "cell_type": "code",
      "metadata": {
        "colab": {
          "base_uri": "https://localhost:8080/",
          "height": 295
        },
        "id": "qvvV6Wgp6-Tg",
        "outputId": "12c63f13-32fd-42ed-af17-0887479178a0"
      },
      "source": [
        "plt.plot(ucf_k_results)\n",
        "plt.plot(icf_k_results, color='r')\n",
        "plt.xlabel(\"K\")\n",
        "plt.ylabel(\"RMSE\")\n",
        "plt.title(\"RMSE for various values of K for User based CF and Item based CF\")\n",
        "plt.show()"
      ],
      "execution_count": null,
      "outputs": [
        {
          "output_type": "display_data",
          "data": {
            "text/plain": [
              "<Figure size 432x288 with 1 Axes>"
            ],
            "image/png": "[encoded data removed]"
          },
          "metadata": {
            "needs_background": "light"
          }
        }
      ]
    },
    {
      "cell_type": "code",
      "source": [],
      "metadata": {
        "id": "SPbs736Jr1cS"
      },
      "execution_count": null,
      "outputs": []
    },
    {
      "cell_type": "code",
      "metadata": {
        "id": "kS-2tBh87h1A"
      },
      "source": [],
      "execution_count": null,
      "outputs": []
    }
  ]
}